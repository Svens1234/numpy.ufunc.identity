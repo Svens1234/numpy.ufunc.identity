{
 "cells": [
  {
   "cell_type": "code",
   "execution_count": 1,
   "id": "8c7cc358",
   "metadata": {},
   "outputs": [],
   "source": [
    "import numpy as np"
   ]
  },
  {
   "cell_type": "code",
   "execution_count": 2,
   "id": "fd19cc69",
   "metadata": {},
   "outputs": [
    {
     "data": {
      "text/plain": [
       "0"
      ]
     },
     "execution_count": 2,
     "metadata": {},
     "output_type": "execute_result"
    }
   ],
   "source": [
    "#Значение идентичности.\n",
    "#Атрибут данных, содержащий элемент идентификации для ufunc, если он есть. Если это не так, значением атрибута является None.\n",
    "np.add.identity"
   ]
  },
  {
   "cell_type": "code",
   "execution_count": 3,
   "id": "bdbba100",
   "metadata": {},
   "outputs": [
    {
     "data": {
      "text/plain": [
       "1"
      ]
     },
     "execution_count": 3,
     "metadata": {},
     "output_type": "execute_result"
    }
   ],
   "source": [
    "np.multiply.identity"
   ]
  },
  {
   "cell_type": "code",
   "execution_count": 8,
   "id": "0030a673",
   "metadata": {},
   "outputs": [
    {
     "name": "stdout",
     "output_type": "stream",
     "text": [
      "None\n"
     ]
    }
   ],
   "source": [
    "print(np.power.identity)"
   ]
  },
  {
   "cell_type": "code",
   "execution_count": 6,
   "id": "19172b0f",
   "metadata": {},
   "outputs": [
    {
     "name": "stdout",
     "output_type": "stream",
     "text": [
      "None\n"
     ]
    }
   ],
   "source": [
    "print(np.exp.identity)\n"
   ]
  },
  {
   "cell_type": "code",
   "execution_count": null,
   "id": "8d5f08a9",
   "metadata": {},
   "outputs": [],
   "source": []
  }
 ],
 "metadata": {
  "kernelspec": {
   "display_name": "Python 3 (ipykernel)",
   "language": "python",
   "name": "python3"
  },
  "language_info": {
   "codemirror_mode": {
    "name": "ipython",
    "version": 3
   },
   "file_extension": ".py",
   "mimetype": "text/x-python",
   "name": "python",
   "nbconvert_exporter": "python",
   "pygments_lexer": "ipython3",
   "version": "3.10.5"
  }
 },
 "nbformat": 4,
 "nbformat_minor": 5
}
